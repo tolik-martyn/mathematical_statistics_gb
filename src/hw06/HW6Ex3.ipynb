{
 "cells": [
  {
   "cell_type": "code",
   "execution_count": 11,
   "id": "c3c3d7de-528c-4874-9bfc-23932d9f2ab0",
   "metadata": {},
   "outputs": [],
   "source": [
    "import numpy as np\n",
    "import scipy.stats as stats"
   ]
  },
  {
   "cell_type": "code",
   "execution_count": 12,
   "id": "8070defb-74fa-40bf-931e-46366be61ede",
   "metadata": {},
   "outputs": [],
   "source": [
    "growth_daughters = np.array([175, 167, 154, 174, 178, 148, 160, 167, 169, 170])\n",
    "growth_mothers = np.array([178, 165, 165, 173, 168, 155, 160, 164, 178, 175])"
   ]
  },
  {
   "cell_type": "code",
   "execution_count": 18,
   "id": "fc392ef3-5f2d-4e87-a7cf-f367692fabde",
   "metadata": {},
   "outputs": [],
   "source": [
    "mean_daughters = np.mean(growth_daughters) # среднее арифметическое (166.2)"
   ]
  },
  {
   "cell_type": "code",
   "execution_count": 19,
   "id": "80ac6295-da02-4233-b1e3-e7d440c1ce27",
   "metadata": {},
   "outputs": [],
   "source": [
    "mean_mothers = np.mean(growth_mothers) # среднее арифметическое (168.1)"
   ]
  },
  {
   "cell_type": "code",
   "execution_count": 33,
   "id": "90b4064d-c5d2-4749-9c7d-29afad71694d",
   "metadata": {},
   "outputs": [],
   "source": [
    "delta = mean_daughters - mean_mothers # X1 - X2 разность средних (-1.9000000000000057)"
   ]
  },
  {
   "cell_type": "code",
   "execution_count": 29,
   "id": "5aa8e6de-8415-4258-aaf0-e5421483bbdd",
   "metadata": {},
   "outputs": [],
   "source": [
    "dispersion_daughters = np.var(growth_daughters, ddof=1) # дисперсия (91.06666666666666)"
   ]
  },
  {
   "cell_type": "code",
   "execution_count": 30,
   "id": "96606346-2836-45f8-a225-ae4758cace79",
   "metadata": {},
   "outputs": [],
   "source": [
    "dispersion_mothers = np.var(growth_mothers, ddof=1) # дисперсия (60.10000000000001)"
   ]
  },
  {
   "cell_type": "code",
   "execution_count": 35,
   "id": "be7c6909-da3a-4860-9893-c99d859e4cf3",
   "metadata": {},
   "outputs": [],
   "source": [
    "dispersion = (dispersion_daughters + dispersion_mothers) / 2 # объединенная оценка дисперсии (75.58333333333334)"
   ]
  },
  {
   "cell_type": "code",
   "execution_count": 31,
   "id": "871fda87-28ff-400a-ae7a-d11a5cd7e52c",
   "metadata": {},
   "outputs": [],
   "source": [
    "sigma_daughters = np.std(growth_daughters, ddof=1) # 9.542885657214313"
   ]
  },
  {
   "cell_type": "code",
   "execution_count": 27,
   "id": "9731633b-8e1e-4216-b91f-fab5a32c354c",
   "metadata": {},
   "outputs": [],
   "source": [
    "sigma_mothers = np.std(growth_mothers, ddof=1) # 7.752418977325723"
   ]
  },
  {
   "cell_type": "code",
   "execution_count": 37,
   "id": "fb0511b3-faff-4d23-9668-1f83dcbea95f",
   "metadata": {},
   "outputs": [],
   "source": [
    "SE = np.sqrt(dispersion_daughters/len(growth_daughters) + dispersion_mothers/len(growth_mothers)) \n",
    "# стандартная ошибка разности средних (3.888015775002291)"
   ]
  },
  {
   "cell_type": "code",
   "execution_count": 42,
   "id": "39442832-ef14-4509-9316-a08c327d9806",
   "metadata": {},
   "outputs": [],
   "source": [
    "t = stats.t.ppf(0.975,18) # степень свободы 2*(n-1) = 2*(10-1) -> (2.10092204024096)"
   ]
  },
  {
   "cell_type": "code",
   "execution_count": 43,
   "id": "ffdb0771-28be-4d70-9fb0-017b211efd83",
   "metadata": {},
   "outputs": [],
   "source": [
    "L = delta - t * SE # нижняя граница интервала (-10.068418034506857)"
   ]
  },
  {
   "cell_type": "code",
   "execution_count": 45,
   "id": "1c6115cf-7592-4024-a71f-83bdd1316957",
   "metadata": {},
   "outputs": [],
   "source": [
    "U = delta + t * SE # верхняя граница интервала (6.268418034506846)"
   ]
  },
  {
   "cell_type": "code",
   "execution_count": null,
   "id": "11914df9-0693-4f68-8844-4adab6f5d88c",
   "metadata": {},
   "outputs": [],
   "source": []
  }
 ],
 "metadata": {
  "kernelspec": {
   "display_name": "anaconda-2022.05-py39",
   "language": "python",
   "name": "conda-env-anaconda-2022.05-py39-py"
  },
  "language_info": {
   "codemirror_mode": {
    "name": "ipython",
    "version": 3
   },
   "file_extension": ".py",
   "mimetype": "text/x-python",
   "name": "python",
   "nbconvert_exporter": "python",
   "pygments_lexer": "ipython3",
   "version": "3.9.12"
  },
  "toc-showmarkdowntxt": true
 },
 "nbformat": 4,
 "nbformat_minor": 5
}
