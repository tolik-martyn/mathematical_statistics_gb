{
 "cells": [
  {
   "cell_type": "code",
   "execution_count": 5,
   "id": "5fa100be-85f5-432b-a123-fb5df922293d",
   "metadata": {},
   "outputs": [],
   "source": [
    "import numpy as np\n",
    "import scipy.stats as stats"
   ]
  },
  {
   "cell_type": "code",
   "execution_count": 8,
   "id": "17e78a06-052a-46cb-a841-e7e7bb3ea8d2",
   "metadata": {},
   "outputs": [],
   "source": [
    "x = np.array([150, 160, 165, 145, 155])\n",
    "y = np.array ([140, 155, 150,  130, 135])"
   ]
  },
  {
   "cell_type": "code",
   "execution_count": 9,
   "id": "076fc256-fb58-4c2f-9021-7a01e1552760",
   "metadata": {},
   "outputs": [
    {
     "data": {
      "text/plain": [
       "WilcoxonResult(statistic=0.0, pvalue=0.0625)"
      ]
     },
     "execution_count": 9,
     "metadata": {},
     "output_type": "execute_result"
    }
   ],
   "source": [
    "stats.wilcoxon(x, y) # WilcoxonResult(statistic=0.0, pvalue=0.0625)\n",
    "# pvalue > 0.05 - нет статистически значимых различий в уровне давления пациентов после приема препарата."
   ]
  },
  {
   "cell_type": "code",
   "execution_count": null,
   "id": "5f465818-b371-49c3-8bdf-7f37efa6f74e",
   "metadata": {},
   "outputs": [],
   "source": []
  }
 ],
 "metadata": {
  "kernelspec": {
   "display_name": "anaconda-2022.05-py39",
   "language": "python",
   "name": "conda-env-anaconda-2022.05-py39-py"
  },
  "language_info": {
   "codemirror_mode": {
    "name": "ipython",
    "version": 3
   },
   "file_extension": ".py",
   "mimetype": "text/x-python",
   "name": "python",
   "nbconvert_exporter": "python",
   "pygments_lexer": "ipython3",
   "version": "3.9.12"
  }
 },
 "nbformat": 4,
 "nbformat_minor": 5
}
