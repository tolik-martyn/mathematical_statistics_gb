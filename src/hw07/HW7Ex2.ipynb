{
 "cells": [
  {
   "cell_type": "code",
   "execution_count": 8,
   "id": "8b98d239-2f72-4305-9142-c9c3adcd4ee7",
   "metadata": {},
   "outputs": [],
   "source": [
    "import numpy as np\n",
    "import scipy.stats as stats"
   ]
  },
  {
   "cell_type": "code",
   "execution_count": 9,
   "id": "f4c633a0-b85c-41ce-a26a-9f75e6467146",
   "metadata": {},
   "outputs": [],
   "source": [
    "a = np.array([150, 160, 165, 145, 155])\n",
    "b = np.array([140, 155, 150,  130, 135])\n",
    "c =np.array([130, 130, 120, 130, 125])"
   ]
  },
  {
   "cell_type": "code",
   "execution_count": 10,
   "id": "ca94e16b-8af6-41fd-80a7-99e5e1310a22",
   "metadata": {},
   "outputs": [
    {
     "data": {
      "text/plain": [
       "FriedmanchisquareResult(statistic=9.578947368421062, pvalue=0.00831683351100441)"
      ]
     },
     "execution_count": 10,
     "metadata": {},
     "output_type": "execute_result"
    }
   ],
   "source": [
    "stats.friedmanchisquare(a, b, c) # FriedmanchisquareResult(statistic=9.578947368421062, pvalue=0.00831683351100441)\n",
    "# pvalue < 0.05, поэтому можем сказать, что есть статистически значимые различия после приема препарата."
   ]
  },
  {
   "cell_type": "code",
   "execution_count": null,
   "id": "1e619e85-2d23-42ed-a56d-5bff1ceb4118",
   "metadata": {},
   "outputs": [],
   "source": []
  }
 ],
 "metadata": {
  "kernelspec": {
   "display_name": "anaconda-2022.05-py39",
   "language": "python",
   "name": "conda-env-anaconda-2022.05-py39-py"
  },
  "language_info": {
   "codemirror_mode": {
    "name": "ipython",
    "version": 3
   },
   "file_extension": ".py",
   "mimetype": "text/x-python",
   "name": "python",
   "nbconvert_exporter": "python",
   "pygments_lexer": "ipython3",
   "version": "3.9.12"
  }
 },
 "nbformat": 4,
 "nbformat_minor": 5
}
