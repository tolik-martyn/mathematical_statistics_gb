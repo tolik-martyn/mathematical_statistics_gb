{
 "cells": [
  {
   "cell_type": "code",
   "execution_count": 9,
   "id": "94b9cde8-4944-41dd-aa38-960655d539b0",
   "metadata": {},
   "outputs": [],
   "source": [
    "import numpy as np\n",
    "import scipy.stats as stats"
   ]
  },
  {
   "cell_type": "code",
   "execution_count": 14,
   "id": "19e4f543-1974-431c-8f4e-5616fe8f1732",
   "metadata": {},
   "outputs": [],
   "source": [
    "x1 = np.array([380, 420, 290])\n",
    "y1 =np.array([140, 360, 200, 900])"
   ]
  },
  {
   "cell_type": "code",
   "execution_count": 16,
   "id": "cd7ae357-56b3-47f5-9622-55200e2bb8ca",
   "metadata": {},
   "outputs": [
    {
     "data": {
      "text/plain": [
       "MannwhitneyuResult(statistic=8.0, pvalue=0.6285714285714286)"
      ]
     },
     "execution_count": 16,
     "metadata": {},
     "output_type": "execute_result"
    }
   ],
   "source": [
    "stats.mannwhitneyu(x1,y1) # MannwhitneyuResult(statistic=8.0, pvalue=0.6285714285714286\n",
    "# pvalue > 0.05, в рассматриваемых выборках нет статистически значимых различий. "
   ]
  },
  {
   "cell_type": "code",
   "execution_count": null,
   "id": "4298be88-0687-4a5a-8d0b-fd9d33f51aba",
   "metadata": {},
   "outputs": [],
   "source": []
  }
 ],
 "metadata": {
  "kernelspec": {
   "display_name": "anaconda-2022.05-py39",
   "language": "python",
   "name": "conda-env-anaconda-2022.05-py39-py"
  },
  "language_info": {
   "codemirror_mode": {
    "name": "ipython",
    "version": 3
   },
   "file_extension": ".py",
   "mimetype": "text/x-python",
   "name": "python",
   "nbconvert_exporter": "python",
   "pygments_lexer": "ipython3",
   "version": "3.9.12"
  }
 },
 "nbformat": 4,
 "nbformat_minor": 5
}
