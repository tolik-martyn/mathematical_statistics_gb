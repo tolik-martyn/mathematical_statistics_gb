{
 "cells": [
  {
   "cell_type": "code",
   "execution_count": 6,
   "id": "2245a165-28f5-4c01-8ad6-be44ca0d6b64",
   "metadata": {},
   "outputs": [],
   "source": [
    "import numpy as np\n",
    "import scipy.stats as stats"
   ]
  },
  {
   "cell_type": "code",
   "execution_count": 7,
   "id": "e111271b-8c6f-4deb-88a7-18e992c6844c",
   "metadata": {},
   "outputs": [],
   "source": [
    "gr1 = np.array([56, 60, 62, 55, 71, 67, 59, 58, 64, 67])\n",
    "gr2 = np.array([57, 58, 69, 48, 72, 70, 68, 71, 50, 53])\n",
    "gr3 = np.array([57, 67, 49, 48, 47, 55, 66, 51, 54])"
   ]
  },
  {
   "cell_type": "code",
   "execution_count": 8,
   "id": "0d68939e-bf9c-4590-8d4a-d5fa519ca644",
   "metadata": {},
   "outputs": [
    {
     "data": {
      "text/plain": [
       "KruskalResult(statistic=5.465564058257224, pvalue=0.0650380998590494)"
      ]
     },
     "execution_count": 8,
     "metadata": {},
     "output_type": "execute_result"
    }
   ],
   "source": [
    "stats.kruskal(gr1,gr2,gr3) # KruskalResult(statistic=5.465564058257224, pvalue=0.0650380998590494)\n",
    "# pvalue > 0.05 - нет статистически значимых различий между группами."
   ]
  },
  {
   "cell_type": "code",
   "execution_count": null,
   "id": "e55a8839-5d64-4362-995d-0a8d0cc24214",
   "metadata": {},
   "outputs": [],
   "source": []
  }
 ],
 "metadata": {
  "kernelspec": {
   "display_name": "anaconda-2022.05-py39",
   "language": "python",
   "name": "conda-env-anaconda-2022.05-py39-py"
  },
  "language_info": {
   "codemirror_mode": {
    "name": "ipython",
    "version": 3
   },
   "file_extension": ".py",
   "mimetype": "text/x-python",
   "name": "python",
   "nbconvert_exporter": "python",
   "pygments_lexer": "ipython3",
   "version": "3.9.12"
  }
 },
 "nbformat": 4,
 "nbformat_minor": 5
}
