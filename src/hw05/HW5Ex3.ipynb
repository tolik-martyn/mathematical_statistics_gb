{
 "cells": [
  {
   "cell_type": "code",
   "execution_count": 80,
   "id": "06e61d9e-59eb-43a4-8e85-78b772662d5d",
   "metadata": {},
   "outputs": [],
   "source": [
    "import numpy as np\n",
    "import scipy.stats as stats"
   ]
  },
  {
   "cell_type": "code",
   "execution_count": 81,
   "id": "b10ee17e-3bec-4bd9-824b-8b69705a4443",
   "metadata": {},
   "outputs": [],
   "source": [
    "growth_mothers = np.array([172, 177, 158, 170, 178,175, 164, 160, 169, 165])\n",
    "growth_daughters = np.array([173, 175, 162, 174, 175, 168, 155, 170, 160])"
   ]
  },
  {
   "cell_type": "code",
   "execution_count": 82,
   "id": "a5b9aacb-4543-4c55-8dae-c2513d66974b",
   "metadata": {},
   "outputs": [],
   "source": [
    "mean_mothers = np.mean(growth_mothers) # среднее арифметическое (168.8)\n",
    "mean_daughters = np.mean(growth_daughters) # среднее арифметическое (168.0)"
   ]
  },
  {
   "cell_type": "code",
   "execution_count": 83,
   "id": "81f0b619-0aed-4771-8525-7515c3e0be42",
   "metadata": {},
   "outputs": [],
   "source": [
    "dispersion_mothers = np.var(growth_mothers, ddof=1) # дисперсия (48.17777777777778)\n",
    "dispersion_daughters = np.var(growth_daughters, ddof=1) # дисперсия (54.0)"
   ]
  },
  {
   "cell_type": "code",
   "execution_count": 84,
   "id": "41307eff-c8fb-44fc-9da6-66d75c240eb7",
   "metadata": {},
   "outputs": [],
   "source": [
    "sigma_mothers = np.std(growth_mothers, ddof=1) # 6.941021378570864\n",
    "sigma_daughters = np.std(growth_daughters, ddof=1) # 7.3484692283495345"
   ]
  },
  {
   "cell_type": "code",
   "execution_count": 85,
   "id": "a135a2c2-d4a6-4769-a070-9cc0e76821c7",
   "metadata": {},
   "outputs": [],
   "source": [
    "t = (mean_mothers - mean_daughters)/np.sqrt(dispersion_mothers/len(growth_mothers) + dispersion_daughters/len(growth_daughters))\n",
    "# критерий по распределению Стьюдента (0.24323213903456076), наблюдаемое значение"
   ]
  },
  {
   "cell_type": "code",
   "execution_count": 86,
   "id": "3cee01f5-00d0-488c-9871-aaff5c00ecf0",
   "metadata": {},
   "outputs": [
    {
     "data": {
      "text/plain": [
       "Ttest_indResult(statistic=0.24400587215969016, pvalue=0.8101467126543231)"
      ]
     },
     "execution_count": 86,
     "metadata": {},
     "output_type": "execute_result"
    }
   ],
   "source": [
    "stats.ttest_ind(growth_mothers, growth_daughters) \n",
    "# ttest_ind для независимых выборок Ttest_indResult(statistic=0.24400587215969016, pvalue=0.8101467126543231)"
   ]
  },
  {
   "cell_type": "code",
   "execution_count": null,
   "id": "c6919cf9-80dd-414a-9c33-788a6a557df4",
   "metadata": {},
   "outputs": [],
   "source": []
  }
 ],
 "metadata": {
  "kernelspec": {
   "display_name": "anaconda-2022.05-py39",
   "language": "python",
   "name": "conda-env-anaconda-2022.05-py39-py"
  },
  "language_info": {
   "codemirror_mode": {
    "name": "ipython",
    "version": 3
   },
   "file_extension": ".py",
   "mimetype": "text/x-python",
   "name": "python",
   "nbconvert_exporter": "python",
   "pygments_lexer": "ipython3",
   "version": "3.9.12"
  },
  "vscode": {
   "interpreter": {
    "hash": "22d01663cc86af720f314a4a9b4c140efbaf00491dd607fb162adaf1d6d895a9"
   }
  }
 },
 "nbformat": 4,
 "nbformat_minor": 5
}
