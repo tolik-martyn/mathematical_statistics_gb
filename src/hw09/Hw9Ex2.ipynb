{
 "cells": [
  {
   "cell_type": "code",
   "execution_count": 109,
   "id": "5be56ac5-a18e-4f7d-a95b-4fa1c6894fd1",
   "metadata": {},
   "outputs": [],
   "source": [
    "import numpy as np"
   ]
  },
  {
   "cell_type": "code",
   "execution_count": 110,
   "id": "29efa8ca-6b89-4cc7-86b0-36c081e28389",
   "metadata": {},
   "outputs": [],
   "source": [
    "zp = np.array([35, 45, 190, 200, 40, 70, 54, 150, 120, 110])\n",
    "ks = np.array([401, 574, 874, 919, 459, 739, 653, 902, 746, 832])"
   ]
  },
  {
   "cell_type": "code",
   "execution_count": 111,
   "id": "a3539668-77c4-4e39-bc54-beed17bdab93",
   "metadata": {},
   "outputs": [],
   "source": [
    "def mse_(B1, y = ks, x = zp, n = len(zp)):\n",
    "    return np.sum((B1 * x - y)**2)/ n"
   ]
  },
  {
   "cell_type": "code",
   "execution_count": 112,
   "id": "ec38e43b-cf66-411b-a925-ad2cb6fd7a5d",
   "metadata": {},
   "outputs": [],
   "source": [
    "alpha = 0.000001\n",
    "B1 = 0.1"
   ]
  },
  {
   "cell_type": "code",
   "execution_count": 113,
   "id": "215f4d88-6b58-43f9-b1bb-f44d55a0c78c",
   "metadata": {},
   "outputs": [
    {
     "name": "stdout",
     "output_type": "stream",
     "text": [
      "Iteration = 0, B1 = 0.2994101, mse =487072.63368186494\n",
      "Iteration = 500, B1 = 5.889820283126758, mse =56516.85841571967\n",
      "Iteration = 1000, B1 = 5.8898204201326765, mse =56516.85841571941\n",
      "Iteration = 1500, B1 = 5.8898204201326765, mse =56516.85841571941\n",
      "Iteration = 2000, B1 = 5.8898204201326765, mse =56516.85841571941\n",
      "Iteration = 2500, B1 = 5.8898204201326765, mse =56516.85841571941\n"
     ]
    }
   ],
   "source": [
    "for i in range (3000):\n",
    "    B1 -= alpha * (2/n) * np.sum ((B1 * zp - ks) * zp)\n",
    "    if not i % 500:\n",
    "        print ('Iteration = {i}, B1 = {B1}, mse ={mse}'.format(i= i, B1 = B1, mse = mse_(B1)))"
   ]
  },
  {
   "cell_type": "code",
   "execution_count": 114,
   "id": "6b7728f6-8285-4322-8701-b464bc612e4c",
   "metadata": {},
   "outputs": [
    {
     "data": {
      "text/plain": [
       "56516.85841572182"
      ]
     },
     "execution_count": 114,
     "metadata": {},
     "output_type": "execute_result"
    }
   ],
   "source": [
    "# а теперь посчитаем mse через записанную ранее функцию и убедимся, что они одинаковы\n",
    "mse_(5.88982)"
   ]
  },
  {
   "cell_type": "code",
   "execution_count": null,
   "id": "737c9b81-72c7-45d0-ba18-fb01f6e53db6",
   "metadata": {},
   "outputs": [],
   "source": []
  }
 ],
 "metadata": {
  "kernelspec": {
   "display_name": "anaconda-2022.05-py39",
   "language": "python",
   "name": "conda-env-anaconda-2022.05-py39-py"
  },
  "language_info": {
   "codemirror_mode": {
    "name": "ipython",
    "version": 3
   },
   "file_extension": ".py",
   "mimetype": "text/x-python",
   "name": "python",
   "nbconvert_exporter": "python",
   "pygments_lexer": "ipython3",
   "version": "3.9.12"
  }
 },
 "nbformat": 4,
 "nbformat_minor": 5
}
