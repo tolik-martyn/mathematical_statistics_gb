{
 "cells": [
  {
   "cell_type": "code",
   "execution_count": 67,
   "id": "327d0bd7-d319-4459-8350-9153e728458f",
   "metadata": {},
   "outputs": [],
   "source": [
    "import numpy as np\n",
    "import scipy.stats as stats\n",
    "import matplotlib.pyplot as plt\n",
    "from sklearn.linear_model import LinearRegression\n",
    "import pandas as pd"
   ]
  },
  {
   "cell_type": "code",
   "execution_count": 68,
   "id": "4e349635-27e3-403e-93f7-1907bf053b1c",
   "metadata": {},
   "outputs": [],
   "source": [
    "zp = np.array([35, 45, 190, 200, 40, 70, 54, 150, 120, 110])\n",
    "ks = np.array([401, 574, 874, 919, 459, 739, 653, 902, 746, 832])"
   ]
  },
  {
   "cell_type": "code",
   "execution_count": 69,
   "id": "712c1a1f-11c2-4a05-b25f-639dfef1cc76",
   "metadata": {},
   "outputs": [],
   "source": [
    "zp1 = zp.reshape(-1,1) # делаем массив x двумерным атрибутом reshape(-1,1)"
   ]
  },
  {
   "cell_type": "code",
   "execution_count": 70,
   "id": "7d5c97c7-c0a0-4bcc-ab3f-68aafc46d3c2",
   "metadata": {},
   "outputs": [],
   "source": [
    "model = LinearRegression() # зададим модель линейной регрессии"
   ]
  },
  {
   "cell_type": "code",
   "execution_count": 71,
   "id": "3bd6e06b-7f89-4d26-a375-88cb66232332",
   "metadata": {},
   "outputs": [],
   "source": [
    "regres = model.fit(zp1,ks) # подбираем коэффициенты"
   ]
  },
  {
   "cell_type": "code",
   "execution_count": 72,
   "id": "ebc92fa1-41c7-46c8-afdd-b5295353d179",
   "metadata": {},
   "outputs": [
    {
     "name": "stdout",
     "output_type": "stream",
     "text": [
      "444.17735732435955\n"
     ]
    }
   ],
   "source": [
    "print(regres.intercept_) # выводим интерсепт (444.17735732435955)"
   ]
  },
  {
   "cell_type": "code",
   "execution_count": 73,
   "id": "2fad8959-d7ed-4bda-b029-2cce325c10c1",
   "metadata": {},
   "outputs": [
    {
     "name": "stdout",
     "output_type": "stream",
     "text": [
      "[2.62053888]\n"
     ]
    }
   ],
   "source": [
    "print(regres.coef_) # выводим коэффициент ([2.62053888])"
   ]
  },
  {
   "cell_type": "code",
   "execution_count": 74,
   "id": "bfa4cc0b-6902-41c8-bb0e-02504e8a4b1d",
   "metadata": {},
   "outputs": [
    {
     "data": {
      "text/plain": [
       "array([535.89621821, 562.10160703, 942.07974498, 968.2851338 ,\n",
       "       548.99891262, 627.61507909, 585.68645697, 837.25818968,\n",
       "       758.64202321, 732.43663439])"
      ]
     },
     "execution_count": 74,
     "metadata": {},
     "output_type": "execute_result"
    }
   ],
   "source": [
    "ks_pred = model.predict(zp1) # посчитаем предиктовые значения\n",
    "ks_pred"
   ]
  },
  {
   "cell_type": "code",
   "execution_count": 75,
   "id": "b64d2827-e688-49b7-9691-dcb2b46ca6ff",
   "metadata": {},
   "outputs": [],
   "source": [
    "model2 = LinearRegression(fit_intercept=False) # чтобы интерсепт = 0"
   ]
  },
  {
   "cell_type": "code",
   "execution_count": 76,
   "id": "3337a196-161d-4967-a16e-a3478f53a572",
   "metadata": {},
   "outputs": [],
   "source": [
    "regres2 = model2.fit(zp1,ks) # подбираем коэффициенты"
   ]
  },
  {
   "cell_type": "code",
   "execution_count": 77,
   "id": "a84461fa-4987-47dc-a050-071253251324",
   "metadata": {},
   "outputs": [
    {
     "name": "stdout",
     "output_type": "stream",
     "text": [
      "0.0\n"
     ]
    }
   ],
   "source": [
    "print(regres2.intercept_) # выводим интерсепт (0.0)"
   ]
  },
  {
   "cell_type": "code",
   "execution_count": 78,
   "id": "5ca30e89-7202-4c4a-be54-b7bf28053b52",
   "metadata": {},
   "outputs": [
    {
     "name": "stdout",
     "output_type": "stream",
     "text": [
      "[5.88982042]\n"
     ]
    }
   ],
   "source": [
    "print(regres2.coef_) # выводим коэффициент ([5.88982042])"
   ]
  },
  {
   "cell_type": "code",
   "execution_count": 79,
   "id": "c8b6a12a-642e-464e-95f3-0a0c92cd6f2f",
   "metadata": {},
   "outputs": [
    {
     "data": {
      "text/plain": [
       "array([ 206.1437147 ,  265.04191891, 1119.06587983, 1177.96408403,\n",
       "        235.59281681,  412.28742941,  318.05030269,  883.47306302,\n",
       "        706.77845042,  647.88024621])"
      ]
     },
     "execution_count": 79,
     "metadata": {},
     "output_type": "execute_result"
    }
   ],
   "source": [
    "ks_pred2 = model2.predict(zp1) # посчитаем предиктовые значения\n",
    "ks_pred2"
   ]
  },
  {
   "cell_type": "code",
   "execution_count": 80,
   "id": "92fd9fc5-df3a-4670-8a0e-11a9418684eb",
   "metadata": {},
   "outputs": [
    {
     "data": {
      "image/png": "[encoded data removed]",
      "text/plain": [
       "<Figure size 432x288 with 1 Axes>"
      ]
     },
     "metadata": {
      "needs_background": "light"
     },
     "output_type": "display_data"
    }
   ],
   "source": [
    "plt.scatter(zp,ks)\n",
    "plt.plot(zp,ks_pred, label='with intercept')\n",
    "plt.plot(zp,ks_pred2, label='without intercept')\n",
    "plt.legend()\n",
    "plt.show()"
   ]
  },
  {
   "cell_type": "code",
   "execution_count": 81,
   "id": "e8829f78-6292-4e90-8683-19169d688e0c",
   "metadata": {},
   "outputs": [
    {
     "data": {
      "text/plain": [
       "0.7876386635293686"
      ]
     },
     "execution_count": 81,
     "metadata": {},
     "output_type": "execute_result"
    }
   ],
   "source": [
    "regres.score(zp1,ks) # коэффициент детерминации(0.7876386635293686)"
   ]
  },
  {
   "cell_type": "code",
   "execution_count": null,
   "id": "2986a50f-ae4b-4062-ac01-93d3b8b62ef9",
   "metadata": {},
   "outputs": [],
   "source": []
  }
 ],
 "metadata": {
  "kernelspec": {
   "display_name": "anaconda-2022.05-py39",
   "language": "python",
   "name": "conda-env-anaconda-2022.05-py39-py"
  },
  "language_info": {
   "codemirror_mode": {
    "name": "ipython",
    "version": 3
   },
   "file_extension": ".py",
   "mimetype": "text/x-python",
   "name": "python",
   "nbconvert_exporter": "python",
   "pygments_lexer": "ipython3",
   "version": "3.9.12"
  }
 },
 "nbformat": 4,
 "nbformat_minor": 5
}
