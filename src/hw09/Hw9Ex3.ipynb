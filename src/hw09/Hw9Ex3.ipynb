{
 "cells": [
  {
   "cell_type": "code",
   "execution_count": 50,
   "id": "a4896d66-e164-4b0a-855a-97d55f69a0b7",
   "metadata": {},
   "outputs": [],
   "source": [
    "import numpy as np"
   ]
  },
  {
   "cell_type": "code",
   "execution_count": 51,
   "id": "3fde7d32-58cb-4bb2-9241-44e0743c969d",
   "metadata": {},
   "outputs": [],
   "source": [
    "zp = np.array([35, 45, 190, 200, 40, 70, 54, 150, 120, 110])\n",
    "ks = np.array([401, 574, 874, 919, 459, 739, 653, 902, 746, 832])"
   ]
  },
  {
   "cell_type": "code",
   "execution_count": 52,
   "id": "2f24c8f0-f474-49e7-a5ac-d716c3f52d9c",
   "metadata": {},
   "outputs": [],
   "source": [
    "def mse_(B1, y = ks, x = zp, n = len(zp)):\n",
    "    B0 = np.mean(ks) - np.mean(zp) * B1\n",
    "    return np.sum((B1 * x + B0 - y)**2)/ n"
   ]
  },
  {
   "cell_type": "code",
   "execution_count": 53,
   "id": "163722d8-f2ae-40bb-8ce7-49a02b741c51",
   "metadata": {},
   "outputs": [],
   "source": [
    "alpha = 0.000001\n",
    "B1 = 0.1"
   ]
  },
  {
   "cell_type": "code",
   "execution_count": 54,
   "id": "4fe72ec0-7d9d-45fe-b789-1e819cc9bdd0",
   "metadata": {},
   "outputs": [],
   "source": [
    "# B0 = np.mean(ks) - np.mean(zp) * B1"
   ]
  },
  {
   "cell_type": "code",
   "execution_count": 55,
   "id": "288e062e-7e6c-47ba-9089-cf5690db3a17",
   "metadata": {},
   "outputs": [
    {
     "name": "stdout",
     "output_type": "stream",
     "text": [
      "Iteration = 0, B0 = 697.527076684, B1 = 0.12202094000000001, mse = 28286.02558832697\n",
      "Iteration = 500, B0 = 447.3269618718419, B1 = 2.589477693571579, mse = 6473.785820942941\n",
      "Iteration = 1000, B0 = 444.2165127212181, B1 = 2.6201527345047517, mse = 6470.4147222631245\n",
      "Iteration = 1500, B0 = 444.1778440982003, B1 = 2.6205340818717917, mse = 6470.414201257196\n",
      "Iteration = 2000, B0 = 444.17736337585654, B1 = 2.620538822723308, mse = 6470.414201176672\n",
      "Iteration = 2500, B0 = 444.17735739959073, B1 = 2.6205388816608406, mse = 6470.414201176661\n"
     ]
    }
   ],
   "source": [
    "for i in range (3000):\n",
    "    B1 -= alpha * (2/n) * np.sum ((B1 * zp + (np.mean(ks) - np.mean(zp) * B1) - ks) * zp)\n",
    "    if not i % 500:\n",
    "        print ('Iteration = {i}, B0 = {B0}, B1 = {B1}, mse = {mse}'.format(i= i, B0 = np.mean(ks) - np.mean(zp) * B1, B1 = B1, mse = mse_(B1)))"
   ]
  },
  {
   "cell_type": "code",
   "execution_count": 56,
   "id": "0842008e-0890-49b2-a2cc-2aeaba988dbf",
   "metadata": {},
   "outputs": [
    {
     "data": {
      "text/plain": [
       "6470.414201452376"
      ]
     },
     "execution_count": 56,
     "metadata": {},
     "output_type": "execute_result"
    }
   ],
   "source": [
    "# а теперь посчитаем mse через записанную ранее функцию и убедимся, что они одинаковы\n",
    "mse_(2.62053)"
   ]
  },
  {
   "cell_type": "code",
   "execution_count": null,
   "id": "1b1b4aa1-3c88-4f94-920e-4a12dbf9d8ce",
   "metadata": {},
   "outputs": [],
   "source": []
  }
 ],
 "metadata": {
  "kernelspec": {
   "display_name": "anaconda-2022.05-py39",
   "language": "python",
   "name": "conda-env-anaconda-2022.05-py39-py"
  },
  "language_info": {
   "codemirror_mode": {
    "name": "ipython",
    "version": 3
   },
   "file_extension": ".py",
   "mimetype": "text/x-python",
   "name": "python",
   "nbconvert_exporter": "python",
   "pygments_lexer": "ipython3",
   "version": "3.9.12"
  }
 },
 "nbformat": 4,
 "nbformat_minor": 5
}
