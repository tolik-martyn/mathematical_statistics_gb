{
 "cells": [
  {
   "cell_type": "code",
   "execution_count": 43,
   "id": "8ae748db-7fab-4ff4-a951-948d3a5f35cd",
   "metadata": {},
   "outputs": [],
   "source": [
    "import numpy as np\n",
    "from scipy import stats\n",
    "import matplotlib.pyplot as plt"
   ]
  },
  {
   "cell_type": "code",
   "execution_count": 44,
   "id": "ded07f6d-7cb8-4c5b-82a1-7609128d09f7",
   "metadata": {},
   "outputs": [],
   "source": [
    "foot = np.array([173, 175, 180, 178, 177, 185, 183, 182])\n",
    "hock = np.array([177, 179, 180, 188, 177, 172, 171, 184, 180])\n",
    "weight = np.array([172, 173, 169, 177, 166, 180, 178, 177, 172, 166, 170])"
   ]
  },
  {
   "cell_type": "code",
   "execution_count": 45,
   "id": "d6855e2f-dcc1-4393-8616-957cbd491826",
   "metadata": {},
   "outputs": [],
   "source": [
    "# ниже каждую выборку по отдельности проверяем на нормальность"
   ]
  },
  {
   "cell_type": "code",
   "execution_count": 46,
   "id": "8c60940c-7580-4cc6-84d8-c0f6cfafb708",
   "metadata": {},
   "outputs": [
    {
     "data": {
      "text/plain": [
       "ShapiroResult(statistic=0.9775081276893616, pvalue=0.9495397210121155)"
      ]
     },
     "execution_count": 46,
     "metadata": {},
     "output_type": "execute_result"
    }
   ],
   "source": [
    "stats.shapiro(foot) # ShapiroResult(statistic=0.9775081276893616, pvalue=0.9495397210121155)\n",
    "# pvalue > α, в текущей выборке значения следуют нормальному распределению"
   ]
  },
  {
   "cell_type": "code",
   "execution_count": 47,
   "id": "7d62911f-81b1-4989-9fb8-8e2899afb4af",
   "metadata": {},
   "outputs": [
    {
     "data": {
      "text/plain": [
       "ShapiroResult(statistic=0.9579195976257324, pvalue=0.7763133645057678)"
      ]
     },
     "execution_count": 47,
     "metadata": {},
     "output_type": "execute_result"
    }
   ],
   "source": [
    "stats.shapiro(hock) # ShapiroResult(statistic=0.9579195976257324, pvalue=0.7763133645057678)\n",
    "# pvalue > α, в текущей выборке значения следуют нормальному распределению"
   ]
  },
  {
   "cell_type": "code",
   "execution_count": 48,
   "id": "ebc74c6f-6315-4530-9ec5-61464d7b1d2b",
   "metadata": {},
   "outputs": [
    {
     "data": {
      "text/plain": [
       "ShapiroResult(statistic=0.93868088722229, pvalue=0.5051169991493225)"
      ]
     },
     "execution_count": 48,
     "metadata": {},
     "output_type": "execute_result"
    }
   ],
   "source": [
    "stats.shapiro(weight) # ShapiroResult(statistic=0.93868088722229, pvalue=0.5051169991493225)\n",
    "# pvalue > α, в текущей выборке значения следуют нормальному распределению"
   ]
  },
  {
   "cell_type": "code",
   "execution_count": 49,
   "id": "4dc53da7-cbc3-4835-8def-16a70f90671c",
   "metadata": {},
   "outputs": [],
   "source": [
    "# значения групп следуют нормальному распределению (согласно теста Шапиро- Уилка)"
   ]
  },
  {
   "cell_type": "code",
   "execution_count": 50,
   "id": "602dd44a-0753-4ba4-9f3c-5e57d5475802",
   "metadata": {},
   "outputs": [],
   "source": [
    "# ниже делаем проверку на однородность дисперсий с помощью Барлетт теста:"
   ]
  },
  {
   "cell_type": "code",
   "execution_count": 51,
   "id": "5c150dd2-0c93-401a-88ff-49db6d010d7d",
   "metadata": {},
   "outputs": [
    {
     "data": {
      "text/plain": [
       "BartlettResult(statistic=0.4640521043406442, pvalue=0.7929254656083131)"
      ]
     },
     "execution_count": 51,
     "metadata": {},
     "output_type": "execute_result"
    }
   ],
   "source": [
    "stats.bartlett(foot, hock, weight) # BartlettResult(statistic=109.62893110687118, pvalue=1.318837833249849e-23)\n",
    "# Барлетт тест показал однородность (равенство) дисперсий в рассматриваемых выборках"
   ]
  },
  {
   "cell_type": "code",
   "execution_count": 52,
   "id": "8cee9b95-2e4e-401b-ac56-14e6b6a31d2d",
   "metadata": {},
   "outputs": [],
   "source": [
    "# так как соблюдается нормальность распределения и однородность дтсперсий, ниже будем применять дисперсионный анализ"
   ]
  },
  {
   "cell_type": "code",
   "execution_count": 53,
   "id": "4d52087f-1bb5-4588-b90c-727b253a29ff",
   "metadata": {},
   "outputs": [
    {
     "data": {
      "text/plain": [
       "F_onewayResult(statistic=5.500053450812596, pvalue=0.010482206918698694)"
      ]
     },
     "execution_count": 53,
     "metadata": {},
     "output_type": "execute_result"
    }
   ],
   "source": [
    "stats.f_oneway(foot, hock, weight) # F_onewayResult(statistic=5.500053450812596, pvalue=0.010482206918698694)\n",
    "# pvalue < α (0.05), есть различия среднего роста среди взрослых футболистов, хоккеистов и штангистов (либо в двух, либо во всех трех выборках).\n",
    "# при α = 0.01 стоило бы провести дополнительные исследования. "
   ]
  },
  {
   "cell_type": "code",
   "execution_count": 54,
   "id": "93def359-0410-4458-96bf-3b7aecf950bc",
   "metadata": {},
   "outputs": [],
   "source": [
    "# Post hoc test Tukey не делал, так как рассматриваемые выборки имеют разный размер. "
   ]
  },
  {
   "cell_type": "code",
   "execution_count": null,
   "id": "ef6cdb23-5bbc-46a9-a4e7-5169df4b7404",
   "metadata": {},
   "outputs": [],
   "source": []
  }
 ],
 "metadata": {
  "kernelspec": {
   "display_name": "anaconda-2022.05-py39",
   "language": "python",
   "name": "conda-env-anaconda-2022.05-py39-py"
  },
  "language_info": {
   "codemirror_mode": {
    "name": "ipython",
    "version": 3
   },
   "file_extension": ".py",
   "mimetype": "text/x-python",
   "name": "python",
   "nbconvert_exporter": "python",
   "pygments_lexer": "ipython3",
   "version": "3.9.12"
  }
 },
 "nbformat": 4,
 "nbformat_minor": 5
}
